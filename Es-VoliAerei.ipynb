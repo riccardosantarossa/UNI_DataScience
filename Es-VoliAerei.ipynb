{
 "cells": [
  {
   "cell_type": "code",
   "execution_count": 107,
   "id": "482a0740-ff12-46c5-a3d7-a79b1c030d12",
   "metadata": {},
   "outputs": [],
   "source": [
    "import numpy as np\n",
    "import pandas as pd\n",
    "\n",
    "pd.options.display.max_rows = 11\n",
    "pd.options.display.max_columns = 21\n",
    "\n",
    "from nycflights13 import flights, weather, planes, airports, airlines\n"
   ]
  },
  {
   "cell_type": "markdown",
   "id": "3d6682a2-db19-4fa5-8b3d-1d35b1cd8294",
   "metadata": {},
   "source": [
    "Es.1 Voli il giorno di Natale"
   ]
  },
  {
   "cell_type": "code",
   "execution_count": 2,
   "id": "e90f477d-9cf5-45a6-92a6-486db5d7a120",
   "metadata": {},
   "outputs": [],
   "source": [
    "voliNatale = flights.loc[(flights['month'] == 12) & (flights['day'] == 25)]\n",
    "#voliNatale"
   ]
  },
  {
   "cell_type": "markdown",
   "id": "3c684323-a5d0-4602-a603-b4c5ca2210d9",
   "metadata": {},
   "source": [
    "Es.2 Voli con un ritardo in partenza o in arrivo"
   ]
  },
  {
   "cell_type": "code",
   "execution_count": 4,
   "id": "66febe7a-80e8-4da3-b88d-9a270b203c2a",
   "metadata": {},
   "outputs": [],
   "source": [
    "voliRitardo = flights.loc[(flights['dep_delay'] > 0) | (flights['arr_delay'] > 0) ].dropna()\n",
    "#voliRitardo"
   ]
  },
  {
   "cell_type": "markdown",
   "id": "826858c4-b2f6-4ff1-8a5a-e68801e00f4c",
   "metadata": {},
   "source": [
    "Es.3 Voli con ritardo in partenza ma non in arrivo + PrimaryKey"
   ]
  },
  {
   "cell_type": "code",
   "execution_count": 6,
   "id": "f1ce4218-3c65-4be8-81cc-277a8093c693",
   "metadata": {},
   "outputs": [],
   "source": [
    "flID = flights.copy()\n",
    "primaryKey = np.arange(0, len(flights), 1)\n",
    "flID.insert(0, \"id\",primaryKey)\n",
    "#flID.loc[(flID['dep_delay'] > 0) & (flID['arr_delay'] < 0) ]"
   ]
  },
  {
   "cell_type": "markdown",
   "id": "2ded26fe-529d-4e18-8958-aeafc9bad3fe",
   "metadata": {},
   "source": [
    "Es.4 Voli che hanno recuperato il ritardo"
   ]
  },
  {
   "cell_type": "code",
   "execution_count": 21,
   "id": "987eea27-1948-4026-b3b0-2897647e5cef",
   "metadata": {},
   "outputs": [],
   "source": [
    "flCatch = flID.copy()\n",
    "catchup = flCatch['dep_delay'] - flCatch['arr_delay']\n",
    "flCatch.insert(10, \"catchup\", catchup)\n",
    "flCatchDisplay = flCatch[['id', 'dep_delay', 'arr_delay', 'catchup']].copy()\n",
    "#flCatchDisplay"
   ]
  },
  {
   "cell_type": "markdown",
   "id": "ed4ad7d3-d130-42c4-afb7-f93d39791280",
   "metadata": {},
   "source": [
    "Es.5 Numero di voli ogni giorno"
   ]
  },
  {
   "cell_type": "code",
   "execution_count": 8,
   "id": "f82563ea-83a1-439e-b649-4480a71ad99e",
   "metadata": {},
   "outputs": [],
   "source": [
    "flDays = flID.copy()\n",
    "flDaysShort = flDays[['id', 'month', 'day']].copy()\n",
    "flGroup = flDaysShort.groupby(['month', 'day']).size()\n",
    "flGroup = flGroup.reset_index(name = 'NumeroVoli')\n",
    "#flGroup"
   ]
  },
  {
   "cell_type": "markdown",
   "id": "2a8fdeaa-6e36-405b-a786-fc83c8f24130",
   "metadata": {},
   "source": [
    "Es. 6 Giorni con più di 1000 voli"
   ]
  },
  {
   "cell_type": "code",
   "execution_count": 12,
   "id": "6565200c-eb0f-41cb-8d54-ec6cbe8d44de",
   "metadata": {},
   "outputs": [],
   "source": [
    "flBusy = flGroup.copy()\n",
    "#flBusy[(flBusy['NumeroVoli'] > 1000) & (flBusy['month'] == 7)]"
   ]
  },
  {
   "cell_type": "markdown",
   "id": "67e73597-ab5b-4e86-9122-43cd6e6f105d",
   "metadata": {},
   "source": [
    "Es.7 Ritardo medio di partenza dei giorni di luglio con più di 1000 voli"
   ]
  },
  {
   "cell_type": "code",
   "execution_count": 14,
   "id": "454371b8-c7f6-4f63-8fc2-769d0f7bfd14",
   "metadata": {},
   "outputs": [],
   "source": [
    "flJuly = flID.copy()\n",
    "filter = flBusy.copy() \n",
    "filter = filter[(filter['month'] == 7) & (filter['NumeroVoli'] > 1000)]\n",
    "mask = flJuly['month'].isin(filter['month']) & flJuly['day'].isin(filter['day'])\n",
    "flJulyF = flJuly[mask]\n",
    "flJulyFMean = flJulyF.groupby(['month', 'day'])\n",
    "#flJulyFMean['dep_delay'].mean().sort_values(ascending = False)"
   ]
  },
  {
   "cell_type": "markdown",
   "id": "9df33b48-c73c-4fd7-9fcc-66d6e9e5e8f1",
   "metadata": {},
   "source": [
    "Es.8 Join con tabella airlines"
   ]
  },
  {
   "cell_type": "code",
   "execution_count": 9,
   "id": "3454ee54-8e73-42ac-a4c7-b004aa62332c",
   "metadata": {},
   "outputs": [],
   "source": [
    "data = flID.copy()\n",
    "flights2 = data[['year', 'month', 'day', 'hour', 'origin', 'dest', 'tailnum', 'carrier']]\n",
    "flightsJoined = pd.merge(flights2, airlines, how = 'left')\n",
    "#flightsJoined"
   ]
  },
  {
   "cell_type": "markdown",
   "id": "3c727404-5abf-473a-b3ae-ecb585d213cd",
   "metadata": {},
   "source": [
    "Es.9 Join con planes usando solo tailnum come chiave"
   ]
  },
  {
   "cell_type": "code",
   "execution_count": 10,
   "id": "48f89715-dbf4-4c92-8da0-08f78021fa9b",
   "metadata": {},
   "outputs": [],
   "source": [
    "flToJoin = flights2.copy()\n",
    "flPlanesJoined = pd.merge(flToJoin, planes, on = 'tailnum', how = 'left')\n",
    "#flPlanesJoined.rename(columns = {\"year_x\" : \"Anno Volo\", \"year_y\" : \"Anno Aereo\"})"
   ]
  },
  {
   "cell_type": "markdown",
   "id": "30cd8a6f-c031-48aa-9152-2a01986534b7",
   "metadata": {},
   "source": [
    "Es.10 Left Join Diversi"
   ]
  },
  {
   "cell_type": "code",
   "execution_count": 11,
   "id": "573e4c1a-2311-47cf-b914-10fabbd03370",
   "metadata": {},
   "outputs": [],
   "source": [
    "flToJoin = flights2.copy()\n",
    "airports\n",
    "flAirportDep = pd.merge(flToJoin, airports, left_on = 'origin', right_on = 'faa', how = 'left')\n",
    "flAirportDest = pd.merge(flToJoin, airports, left_on = 'dest', right_on = 'faa', how = 'left')\n",
    "#flAirportDep\n",
    "#flAirportDest"
   ]
  },
  {
   "cell_type": "markdown",
   "id": "0ea9bf50-4216-4236-83eb-2c4771ec8460",
   "metadata": {},
   "source": [
    "Es.11 Destinazioni più popolari con numero di voli, ordinate decrescente"
   ]
  },
  {
   "cell_type": "code",
   "execution_count": 47,
   "id": "8fb12d1d-418f-4af1-aa41-cc895b9929de",
   "metadata": {},
   "outputs": [],
   "source": [
    "data = flAirportDest.copy()\n",
    "dataGroup = data.groupby('name').size()\n",
    "#dataGroup.sort_values(ascending = False).head(10)"
   ]
  },
  {
   "cell_type": "markdown",
   "id": "b52f64ce-38ba-4568-b8bf-e577e8e2be53",
   "metadata": {},
   "source": [
    "Es.12 Voli effettuati da aerei Boeing"
   ]
  },
  {
   "cell_type": "code",
   "execution_count": 53,
   "id": "243f119a-74a0-42d6-b3eb-0aa7338b73de",
   "metadata": {},
   "outputs": [],
   "source": [
    "data = flPlanesJoined.copy()\n",
    "flightsByBoeing = data.loc[data['manufacturer'] == 'BOEING']\n",
    "#flightsByBoeing.rename(columns = {\"year_x\" : \"Anno Volo\", \"year_y\" : \"Anno Aereo\"})"
   ]
  },
  {
   "cell_type": "markdown",
   "id": "245ac421-b67a-4254-83ea-d5ccfa0e8ea8",
   "metadata": {},
   "source": [
    "Es.13 Voli con destinazione ad altitudine superiore a 6000 piedi"
   ]
  },
  {
   "cell_type": "code",
   "execution_count": 85,
   "id": "f47f1069-265b-4594-834c-400163fc7e8f",
   "metadata": {},
   "outputs": [],
   "source": [
    "data = flAirportDest.copy()\n",
    "flightsHigh = data.loc[data['alt'] > 6000]\n",
    "#flightsHigh.sort_values(by = ['alt'], ascending = False)"
   ]
  },
  {
   "cell_type": "markdown",
   "id": "c42fc20e-d256-4348-9765-8fbd5af2dfd8",
   "metadata": {},
   "source": [
    "Es.14 Voli con 4 motori e visibilità minore di 3 miglia"
   ]
  },
  {
   "cell_type": "code",
   "execution_count": 91,
   "id": "22a51e94-841f-464e-b8ed-928ed291a784",
   "metadata": {},
   "outputs": [],
   "source": [
    "data = flPlanesJoined.copy()\n",
    "flights4Engines = data.loc[data['engines'] == 4.0]\n",
    "flights4EnginesWeather = pd.merge(flights4Engines, weather, how = 'left')\n",
    "finalData = flights4EnginesWeather.loc[flights4EnginesWeather['visib'] < 3.0]\n",
    "#finalData.rename(columns = {\"year_x\" : \"Anno Volo\", \"year_y\" : \"Anno Aereo\"})"
   ]
  },
  {
   "cell_type": "markdown",
   "id": "85997105-5001-4c5d-93e5-0693edfd21ae",
   "metadata": {},
   "source": [
    "Es.15 Voli con aeroporti a differenza di altitudine\n"
   ]
  },
  {
   "cell_type": "code",
   "execution_count": 84,
   "id": "f8ca9ffc-59db-426e-94af-91876e13dc51",
   "metadata": {},
   "outputs": [],
   "source": [
    "data = flights2.copy()\n",
    "altitudes = airports[['faa','alt']]\n",
    "depAlt = pd.merge(data, altitudes, left_on = 'origin', right_on = 'faa', how = 'left')\n",
    "finalAlt = pd.merge(depAlt, altitudes, left_on = 'dest', right_on = 'faa', how = 'left')\n",
    "finalAlt = finalAlt.drop(columns = ['faa_x', 'faa_y'])\n",
    "finalAlt = finalAlt.rename(columns = {'alt_x' : 'Altitudine Partenza', 'alt_y' : 'Altitudine Arrivo'})\n",
    "delta = np.absolute(finalAlt['Altitudine Partenza'] - finalAlt['Altitudine Arrivo'])\n",
    "finalAlt = finalAlt.assign(deltaAlt=delta)\n",
    "#finalAlt.loc[finalAlt['deltaAlt'] > 6000]"
   ]
  },
  {
   "cell_type": "markdown",
   "id": "a3b8572e-cf84-4141-93ab-850799071646",
   "metadata": {},
   "source": [
    "Es.16 Verifica che tailnum sia davvero una chiave"
   ]
  },
  {
   "cell_type": "code",
   "execution_count": null,
   "id": "2902a723-20ce-49ea-9d77-574866fdf228",
   "metadata": {},
   "outputs": [],
   "source": []
  },
  {
   "cell_type": "markdown",
   "id": "de0762d7-9de7-4f74-990c-862cb773c4ee",
   "metadata": {},
   "source": [
    "Es.17 Anti Join"
   ]
  },
  {
   "cell_type": "code",
   "execution_count": 116,
   "id": "84f768d2-065a-4ee4-83aa-a2b4d09f2069",
   "metadata": {},
   "outputs": [
    {
     "data": {
      "text/html": [
       "<div>\n",
       "<style scoped>\n",
       "    .dataframe tbody tr th:only-of-type {\n",
       "        vertical-align: middle;\n",
       "    }\n",
       "\n",
       "    .dataframe tbody tr th {\n",
       "        vertical-align: top;\n",
       "    }\n",
       "\n",
       "    .dataframe thead th {\n",
       "        text-align: right;\n",
       "    }\n",
       "</style>\n",
       "<table border=\"1\" class=\"dataframe\">\n",
       "  <thead>\n",
       "    <tr style=\"text-align: right;\">\n",
       "      <th></th>\n",
       "      <th>year</th>\n",
       "      <th>month</th>\n",
       "      <th>day</th>\n",
       "      <th>dep_time</th>\n",
       "      <th>sched_dep_time</th>\n",
       "      <th>dep_delay</th>\n",
       "      <th>arr_time</th>\n",
       "      <th>sched_arr_time</th>\n",
       "      <th>arr_delay</th>\n",
       "      <th>carrier</th>\n",
       "      <th>...</th>\n",
       "      <th>minute</th>\n",
       "      <th>time_hour</th>\n",
       "      <th>faa</th>\n",
       "      <th>name</th>\n",
       "      <th>lat</th>\n",
       "      <th>lon</th>\n",
       "      <th>alt</th>\n",
       "      <th>tz</th>\n",
       "      <th>dst</th>\n",
       "      <th>tzone</th>\n",
       "    </tr>\n",
       "  </thead>\n",
       "  <tbody>\n",
       "    <tr>\n",
       "      <th>18926</th>\n",
       "      <td>2013.0</td>\n",
       "      <td>1.0</td>\n",
       "      <td>1.0</td>\n",
       "      <td>544.0</td>\n",
       "      <td>545.0</td>\n",
       "      <td>-1.0</td>\n",
       "      <td>1004.0</td>\n",
       "      <td>1022.0</td>\n",
       "      <td>-18.0</td>\n",
       "      <td>B6</td>\n",
       "      <td>...</td>\n",
       "      <td>45.0</td>\n",
       "      <td>2013-01-01T10:00:00Z</td>\n",
       "      <td>NaN</td>\n",
       "      <td>NaN</td>\n",
       "      <td>NaN</td>\n",
       "      <td>NaN</td>\n",
       "      <td>NaN</td>\n",
       "      <td>NaN</td>\n",
       "      <td>NaN</td>\n",
       "      <td>NaN</td>\n",
       "    </tr>\n",
       "    <tr>\n",
       "      <th>18927</th>\n",
       "      <td>2013.0</td>\n",
       "      <td>1.0</td>\n",
       "      <td>1.0</td>\n",
       "      <td>1929.0</td>\n",
       "      <td>1920.0</td>\n",
       "      <td>9.0</td>\n",
       "      <td>3.0</td>\n",
       "      <td>7.0</td>\n",
       "      <td>-4.0</td>\n",
       "      <td>UA</td>\n",
       "      <td>...</td>\n",
       "      <td>20.0</td>\n",
       "      <td>2013-01-02T00:00:00Z</td>\n",
       "      <td>NaN</td>\n",
       "      <td>NaN</td>\n",
       "      <td>NaN</td>\n",
       "      <td>NaN</td>\n",
       "      <td>NaN</td>\n",
       "      <td>NaN</td>\n",
       "      <td>NaN</td>\n",
       "      <td>NaN</td>\n",
       "    </tr>\n",
       "    <tr>\n",
       "      <th>18928</th>\n",
       "      <td>2013.0</td>\n",
       "      <td>1.0</td>\n",
       "      <td>1.0</td>\n",
       "      <td>2356.0</td>\n",
       "      <td>2359.0</td>\n",
       "      <td>-3.0</td>\n",
       "      <td>425.0</td>\n",
       "      <td>437.0</td>\n",
       "      <td>-12.0</td>\n",
       "      <td>B6</td>\n",
       "      <td>...</td>\n",
       "      <td>59.0</td>\n",
       "      <td>2013-01-02T04:00:00Z</td>\n",
       "      <td>NaN</td>\n",
       "      <td>NaN</td>\n",
       "      <td>NaN</td>\n",
       "      <td>NaN</td>\n",
       "      <td>NaN</td>\n",
       "      <td>NaN</td>\n",
       "      <td>NaN</td>\n",
       "      <td>NaN</td>\n",
       "    </tr>\n",
       "    <tr>\n",
       "      <th>18929</th>\n",
       "      <td>2013.0</td>\n",
       "      <td>1.0</td>\n",
       "      <td>2.0</td>\n",
       "      <td>539.0</td>\n",
       "      <td>545.0</td>\n",
       "      <td>-6.0</td>\n",
       "      <td>959.0</td>\n",
       "      <td>1022.0</td>\n",
       "      <td>-23.0</td>\n",
       "      <td>B6</td>\n",
       "      <td>...</td>\n",
       "      <td>45.0</td>\n",
       "      <td>2013-01-02T10:00:00Z</td>\n",
       "      <td>NaN</td>\n",
       "      <td>NaN</td>\n",
       "      <td>NaN</td>\n",
       "      <td>NaN</td>\n",
       "      <td>NaN</td>\n",
       "      <td>NaN</td>\n",
       "      <td>NaN</td>\n",
       "      <td>NaN</td>\n",
       "    </tr>\n",
       "    <tr>\n",
       "      <th>18930</th>\n",
       "      <td>2013.0</td>\n",
       "      <td>1.0</td>\n",
       "      <td>2.0</td>\n",
       "      <td>2040.0</td>\n",
       "      <td>2028.0</td>\n",
       "      <td>12.0</td>\n",
       "      <td>110.0</td>\n",
       "      <td>115.0</td>\n",
       "      <td>-5.0</td>\n",
       "      <td>UA</td>\n",
       "      <td>...</td>\n",
       "      <td>28.0</td>\n",
       "      <td>2013-01-03T01:00:00Z</td>\n",
       "      <td>NaN</td>\n",
       "      <td>NaN</td>\n",
       "      <td>NaN</td>\n",
       "      <td>NaN</td>\n",
       "      <td>NaN</td>\n",
       "      <td>NaN</td>\n",
       "      <td>NaN</td>\n",
       "      <td>NaN</td>\n",
       "    </tr>\n",
       "    <tr>\n",
       "      <th>...</th>\n",
       "      <td>...</td>\n",
       "      <td>...</td>\n",
       "      <td>...</td>\n",
       "      <td>...</td>\n",
       "      <td>...</td>\n",
       "      <td>...</td>\n",
       "      <td>...</td>\n",
       "      <td>...</td>\n",
       "      <td>...</td>\n",
       "      <td>...</td>\n",
       "      <td>...</td>\n",
       "      <td>...</td>\n",
       "      <td>...</td>\n",
       "      <td>...</td>\n",
       "      <td>...</td>\n",
       "      <td>...</td>\n",
       "      <td>...</td>\n",
       "      <td>...</td>\n",
       "      <td>...</td>\n",
       "      <td>...</td>\n",
       "      <td>...</td>\n",
       "    </tr>\n",
       "    <tr>\n",
       "      <th>334858</th>\n",
       "      <td>2013.0</td>\n",
       "      <td>9.0</td>\n",
       "      <td>26.0</td>\n",
       "      <td>2349.0</td>\n",
       "      <td>2359.0</td>\n",
       "      <td>-10.0</td>\n",
       "      <td>332.0</td>\n",
       "      <td>350.0</td>\n",
       "      <td>-18.0</td>\n",
       "      <td>B6</td>\n",
       "      <td>...</td>\n",
       "      <td>59.0</td>\n",
       "      <td>2013-09-27T03:00:00Z</td>\n",
       "      <td>NaN</td>\n",
       "      <td>NaN</td>\n",
       "      <td>NaN</td>\n",
       "      <td>NaN</td>\n",
       "      <td>NaN</td>\n",
       "      <td>NaN</td>\n",
       "      <td>NaN</td>\n",
       "      <td>NaN</td>\n",
       "    </tr>\n",
       "    <tr>\n",
       "      <th>334859</th>\n",
       "      <td>2013.0</td>\n",
       "      <td>9.0</td>\n",
       "      <td>27.0</td>\n",
       "      <td>2346.0</td>\n",
       "      <td>2359.0</td>\n",
       "      <td>-13.0</td>\n",
       "      <td>356.0</td>\n",
       "      <td>350.0</td>\n",
       "      <td>6.0</td>\n",
       "      <td>B6</td>\n",
       "      <td>...</td>\n",
       "      <td>59.0</td>\n",
       "      <td>2013-09-28T03:00:00Z</td>\n",
       "      <td>NaN</td>\n",
       "      <td>NaN</td>\n",
       "      <td>NaN</td>\n",
       "      <td>NaN</td>\n",
       "      <td>NaN</td>\n",
       "      <td>NaN</td>\n",
       "      <td>NaN</td>\n",
       "      <td>NaN</td>\n",
       "    </tr>\n",
       "    <tr>\n",
       "      <th>334860</th>\n",
       "      <td>2013.0</td>\n",
       "      <td>9.0</td>\n",
       "      <td>28.0</td>\n",
       "      <td>2351.0</td>\n",
       "      <td>2359.0</td>\n",
       "      <td>-8.0</td>\n",
       "      <td>407.0</td>\n",
       "      <td>350.0</td>\n",
       "      <td>17.0</td>\n",
       "      <td>B6</td>\n",
       "      <td>...</td>\n",
       "      <td>59.0</td>\n",
       "      <td>2013-09-29T03:00:00Z</td>\n",
       "      <td>NaN</td>\n",
       "      <td>NaN</td>\n",
       "      <td>NaN</td>\n",
       "      <td>NaN</td>\n",
       "      <td>NaN</td>\n",
       "      <td>NaN</td>\n",
       "      <td>NaN</td>\n",
       "      <td>NaN</td>\n",
       "    </tr>\n",
       "    <tr>\n",
       "      <th>334861</th>\n",
       "      <td>2013.0</td>\n",
       "      <td>9.0</td>\n",
       "      <td>29.0</td>\n",
       "      <td>2356.0</td>\n",
       "      <td>2359.0</td>\n",
       "      <td>-3.0</td>\n",
       "      <td>341.0</td>\n",
       "      <td>350.0</td>\n",
       "      <td>-9.0</td>\n",
       "      <td>B6</td>\n",
       "      <td>...</td>\n",
       "      <td>59.0</td>\n",
       "      <td>2013-09-30T03:00:00Z</td>\n",
       "      <td>NaN</td>\n",
       "      <td>NaN</td>\n",
       "      <td>NaN</td>\n",
       "      <td>NaN</td>\n",
       "      <td>NaN</td>\n",
       "      <td>NaN</td>\n",
       "      <td>NaN</td>\n",
       "      <td>NaN</td>\n",
       "    </tr>\n",
       "    <tr>\n",
       "      <th>334862</th>\n",
       "      <td>2013.0</td>\n",
       "      <td>9.0</td>\n",
       "      <td>30.0</td>\n",
       "      <td>2349.0</td>\n",
       "      <td>2359.0</td>\n",
       "      <td>-10.0</td>\n",
       "      <td>325.0</td>\n",
       "      <td>350.0</td>\n",
       "      <td>-25.0</td>\n",
       "      <td>B6</td>\n",
       "      <td>...</td>\n",
       "      <td>59.0</td>\n",
       "      <td>2013-10-01T03:00:00Z</td>\n",
       "      <td>NaN</td>\n",
       "      <td>NaN</td>\n",
       "      <td>NaN</td>\n",
       "      <td>NaN</td>\n",
       "      <td>NaN</td>\n",
       "      <td>NaN</td>\n",
       "      <td>NaN</td>\n",
       "      <td>NaN</td>\n",
       "    </tr>\n",
       "  </tbody>\n",
       "</table>\n",
       "<p>7602 rows × 27 columns</p>\n",
       "</div>"
      ],
      "text/plain": [
       "          year  month   day  dep_time  sched_dep_time  dep_delay  arr_time  \\\n",
       "18926   2013.0    1.0   1.0     544.0           545.0       -1.0    1004.0   \n",
       "18927   2013.0    1.0   1.0    1929.0          1920.0        9.0       3.0   \n",
       "18928   2013.0    1.0   1.0    2356.0          2359.0       -3.0     425.0   \n",
       "18929   2013.0    1.0   2.0     539.0           545.0       -6.0     959.0   \n",
       "18930   2013.0    1.0   2.0    2040.0          2028.0       12.0     110.0   \n",
       "...        ...    ...   ...       ...             ...        ...       ...   \n",
       "334858  2013.0    9.0  26.0    2349.0          2359.0      -10.0     332.0   \n",
       "334859  2013.0    9.0  27.0    2346.0          2359.0      -13.0     356.0   \n",
       "334860  2013.0    9.0  28.0    2351.0          2359.0       -8.0     407.0   \n",
       "334861  2013.0    9.0  29.0    2356.0          2359.0       -3.0     341.0   \n",
       "334862  2013.0    9.0  30.0    2349.0          2359.0      -10.0     325.0   \n",
       "\n",
       "        sched_arr_time  arr_delay carrier  ...  minute             time_hour  \\\n",
       "18926           1022.0      -18.0      B6  ...    45.0  2013-01-01T10:00:00Z   \n",
       "18927              7.0       -4.0      UA  ...    20.0  2013-01-02T00:00:00Z   \n",
       "18928            437.0      -12.0      B6  ...    59.0  2013-01-02T04:00:00Z   \n",
       "18929           1022.0      -23.0      B6  ...    45.0  2013-01-02T10:00:00Z   \n",
       "18930            115.0       -5.0      UA  ...    28.0  2013-01-03T01:00:00Z   \n",
       "...                ...        ...     ...  ...     ...                   ...   \n",
       "334858           350.0      -18.0      B6  ...    59.0  2013-09-27T03:00:00Z   \n",
       "334859           350.0        6.0      B6  ...    59.0  2013-09-28T03:00:00Z   \n",
       "334860           350.0       17.0      B6  ...    59.0  2013-09-29T03:00:00Z   \n",
       "334861           350.0       -9.0      B6  ...    59.0  2013-09-30T03:00:00Z   \n",
       "334862           350.0      -25.0      B6  ...    59.0  2013-10-01T03:00:00Z   \n",
       "\n",
       "        faa name  lat  lon  alt  tz  dst tzone  \n",
       "18926   NaN  NaN  NaN  NaN  NaN NaN  NaN   NaN  \n",
       "18927   NaN  NaN  NaN  NaN  NaN NaN  NaN   NaN  \n",
       "18928   NaN  NaN  NaN  NaN  NaN NaN  NaN   NaN  \n",
       "18929   NaN  NaN  NaN  NaN  NaN NaN  NaN   NaN  \n",
       "18930   NaN  NaN  NaN  NaN  NaN NaN  NaN   NaN  \n",
       "...     ...  ...  ...  ...  ...  ..  ...   ...  \n",
       "334858  NaN  NaN  NaN  NaN  NaN NaN  NaN   NaN  \n",
       "334859  NaN  NaN  NaN  NaN  NaN NaN  NaN   NaN  \n",
       "334860  NaN  NaN  NaN  NaN  NaN NaN  NaN   NaN  \n",
       "334861  NaN  NaN  NaN  NaN  NaN NaN  NaN   NaN  \n",
       "334862  NaN  NaN  NaN  NaN  NaN NaN  NaN   NaN  \n",
       "\n",
       "[7602 rows x 27 columns]"
      ]
     },
     "execution_count": 116,
     "metadata": {},
     "output_type": "execute_result"
    }
   ],
   "source": [
    "data1 = flights.copy()\n",
    "data2 = airports.copy()\n",
    "\n",
    "#anti join in due passaggi\n",
    "outer = pd.merge(data1, data2, how = 'outer', left_on = 'dest', right_on = 'faa', indicator = True)\n",
    "antiJoin = outer[(outer._merge=='left_only')].drop('_merge', axis = 1)\n",
    "antiJoin"
   ]
  },
  {
   "cell_type": "markdown",
   "id": "948fdf76-8223-436b-b358-75e05b86eeb8",
   "metadata": {},
   "source": [
    "Ho ottenuto tutti i voli che in dest hanno un riferimento ad un faa non presente in Airports facendo quindi un Anti-Join"
   ]
  },
  {
   "cell_type": "code",
   "execution_count": 120,
   "id": "069da7fe-4961-49a1-adba-e8d94945b63f",
   "metadata": {},
   "outputs": [
    {
     "data": {
      "text/plain": [
       "18926     <NA>\n",
       "18927     <NA>\n",
       "18928     <NA>\n",
       "18929     <NA>\n",
       "18930     <NA>\n",
       "          ... \n",
       "334858    <NA>\n",
       "334859    <NA>\n",
       "334860    <NA>\n",
       "334861    <NA>\n",
       "334862    <NA>\n",
       "Name: dest, Length: 7602, dtype: object"
      ]
     },
     "execution_count": 120,
     "metadata": {},
     "output_type": "execute_result"
    }
   ],
   "source": [
    "data = antiJoin.copy()\n",
    "data = data.assign(dest = pd.NA)\n"
   ]
  }
 ],
 "metadata": {
  "kernelspec": {
   "display_name": "Python 3 (ipykernel)",
   "language": "python",
   "name": "python3"
  },
  "language_info": {
   "codemirror_mode": {
    "name": "ipython",
    "version": 3
   },
   "file_extension": ".py",
   "mimetype": "text/x-python",
   "name": "python",
   "nbconvert_exporter": "python",
   "pygments_lexer": "ipython3",
   "version": "3.10.11"
  }
 },
 "nbformat": 4,
 "nbformat_minor": 5
}
