{
 "cells": [
  {
   "cell_type": "code",
   "execution_count": 20,
   "id": "482a0740-ff12-46c5-a3d7-a79b1c030d12",
   "metadata": {},
   "outputs": [],
   "source": [
    "import numpy as np\n",
    "import pandas as pd\n",
    "\n",
    "pd.options.display.max_rows = 5\n",
    "pd.options.display.max_columns = 21\n",
    "\n",
    "from nycflights13 import flights, weather, planes, airports, airlines\n"
   ]
  },
  {
   "cell_type": "markdown",
   "id": "3d6682a2-db19-4fa5-8b3d-1d35b1cd8294",
   "metadata": {},
   "source": [
    "Es.1 Voli il giorno di Natale"
   ]
  },
  {
   "cell_type": "code",
   "execution_count": 2,
   "id": "e90f477d-9cf5-45a6-92a6-486db5d7a120",
   "metadata": {},
   "outputs": [],
   "source": [
    "voliNatale = flights.loc[(flights['month'] == 12) & (flights['day'] == 25)]\n",
    "#voliNatale"
   ]
  },
  {
   "cell_type": "markdown",
   "id": "3c684323-a5d0-4602-a603-b4c5ca2210d9",
   "metadata": {},
   "source": [
    "Es.2 Voli con un ritardo in partenza o in arrivo"
   ]
  },
  {
   "cell_type": "code",
   "execution_count": 4,
   "id": "66febe7a-80e8-4da3-b88d-9a270b203c2a",
   "metadata": {},
   "outputs": [],
   "source": [
    "voliRitardo = flights.loc[(flights['dep_delay'] > 0) | (flights['arr_delay'] > 0) ].dropna()\n",
    "#voliRitardo"
   ]
  },
  {
   "cell_type": "markdown",
   "id": "826858c4-b2f6-4ff1-8a5a-e68801e00f4c",
   "metadata": {},
   "source": [
    "Es.3 Voli con ritardo in partenza ma non in arrivo + PrimaryKey"
   ]
  },
  {
   "cell_type": "code",
   "execution_count": 2,
   "id": "f1ce4218-3c65-4be8-81cc-277a8093c693",
   "metadata": {},
   "outputs": [],
   "source": [
    "flID = flights.copy()\n",
    "primaryKey = np.arange(0, len(flights), 1)\n",
    "flID.insert(0, \"id\",primaryKey)\n",
    "#flID.loc[(flID['dep_delay'] > 0) & (flID['arr_delay'] < 0) ]"
   ]
  },
  {
   "cell_type": "markdown",
   "id": "2ded26fe-529d-4e18-8958-aeafc9bad3fe",
   "metadata": {},
   "source": [
    "Es.4 Voli che hanno recuperato il ritardo"
   ]
  },
  {
   "cell_type": "code",
   "execution_count": 21,
   "id": "987eea27-1948-4026-b3b0-2897647e5cef",
   "metadata": {},
   "outputs": [],
   "source": [
    "flCatch = flID.copy()\n",
    "catchup = flCatch['dep_delay'] - flCatch['arr_delay']\n",
    "flCatch.insert(10, \"catchup\", catchup)\n",
    "flCatchDisplay = flCatch[['id', 'dep_delay', 'arr_delay', 'catchup']].copy()\n",
    "#flCatchDisplay"
   ]
  },
  {
   "cell_type": "markdown",
   "id": "ed4ad7d3-d130-42c4-afb7-f93d39791280",
   "metadata": {},
   "source": [
    "Es.5 Numero di voli ogni giorno"
   ]
  },
  {
   "cell_type": "code",
   "execution_count": 56,
   "id": "f82563ea-83a1-439e-b649-4480a71ad99e",
   "metadata": {},
   "outputs": [],
   "source": [
    "flDays = flID.copy()\n",
    "flDaysShort = flDays[['id', 'month', 'day']].copy()\n",
    "flGroup = flDaysShort.groupby(['month', 'day']).size()\n",
    "flGroup = flGroup.reset_index(name = 'NumeroVoli')\n",
    "#flGroup"
   ]
  },
  {
   "cell_type": "markdown",
   "id": "2a8fdeaa-6e36-405b-a786-fc83c8f24130",
   "metadata": {},
   "source": [
    "Es. 6 Giorni con più di 1000 voli"
   ]
  },
  {
   "cell_type": "code",
   "execution_count": 48,
   "id": "6565200c-eb0f-41cb-8d54-ec6cbe8d44de",
   "metadata": {},
   "outputs": [
    {
     "data": {
      "text/html": [
       "<div>\n",
       "<style scoped>\n",
       "    .dataframe tbody tr th:only-of-type {\n",
       "        vertical-align: middle;\n",
       "    }\n",
       "\n",
       "    .dataframe tbody tr th {\n",
       "        vertical-align: top;\n",
       "    }\n",
       "\n",
       "    .dataframe thead th {\n",
       "        text-align: right;\n",
       "    }\n",
       "</style>\n",
       "<table border=\"1\" class=\"dataframe\">\n",
       "  <thead>\n",
       "    <tr style=\"text-align: right;\">\n",
       "      <th></th>\n",
       "      <th>month</th>\n",
       "      <th>day</th>\n",
       "      <th>NumeroVoli</th>\n",
       "    </tr>\n",
       "  </thead>\n",
       "  <tbody>\n",
       "    <tr>\n",
       "      <th>188</th>\n",
       "      <td>7</td>\n",
       "      <td>8</td>\n",
       "      <td>1004</td>\n",
       "    </tr>\n",
       "    <tr>\n",
       "      <th>189</th>\n",
       "      <td>7</td>\n",
       "      <td>9</td>\n",
       "      <td>1001</td>\n",
       "    </tr>\n",
       "    <tr>\n",
       "      <th>...</th>\n",
       "      <td>...</td>\n",
       "      <td>...</td>\n",
       "      <td>...</td>\n",
       "    </tr>\n",
       "    <tr>\n",
       "      <th>205</th>\n",
       "      <td>7</td>\n",
       "      <td>25</td>\n",
       "      <td>1003</td>\n",
       "    </tr>\n",
       "    <tr>\n",
       "      <th>211</th>\n",
       "      <td>7</td>\n",
       "      <td>31</td>\n",
       "      <td>1001</td>\n",
       "    </tr>\n",
       "  </tbody>\n",
       "</table>\n",
       "<p>9 rows × 3 columns</p>\n",
       "</div>"
      ],
      "text/plain": [
       "     month  day  NumeroVoli\n",
       "188      7    8        1004\n",
       "189      7    9        1001\n",
       "..     ...  ...         ...\n",
       "205      7   25        1003\n",
       "211      7   31        1001\n",
       "\n",
       "[9 rows x 3 columns]"
      ]
     },
     "execution_count": 48,
     "metadata": {},
     "output_type": "execute_result"
    }
   ],
   "source": [
    "flBusy = flGroup.copy()\n",
    "flBusy[(flBusy['NumeroVoli'] > 1000) & (flBusy['month'] == 7)]"
   ]
  },
  {
   "cell_type": "markdown",
   "id": "67e73597-ab5b-4e86-9122-43cd6e6f105d",
   "metadata": {},
   "source": [
    "Es.7 Ritardo medio di partenza dei giorni di luglio con più di 1000 voli"
   ]
  },
  {
   "cell_type": "code",
   "execution_count": 95,
   "id": "454371b8-c7f6-4f63-8fc2-769d0f7bfd14",
   "metadata": {},
   "outputs": [],
   "source": [
    "flJuly = flID.copy()\n",
    "filter = flBusy.copy() \n",
    "filter = filter[(filter['month'] == 7) & (filter['NumeroVoli'] > 1000)]\n",
    "mask = flJuly['month'].isin(filter['month']) & flJulyF['day'].isin(filter['day'])\n",
    "flJulyF = flJuly[mask]\n",
    "flJulyFMean = flJulyF.groupby(['month', 'day'])\n",
    "#flJulyFMean['dep_delay'].mean().sort_values(ascending = False)"
   ]
  },
  {
   "cell_type": "markdown",
   "id": "9df33b48-c73c-4fd7-9fcc-66d6e9e5e8f1",
   "metadata": {},
   "source": [
    "Es.8 Join con tabella airlines"
   ]
  },
  {
   "cell_type": "code",
   "execution_count": 98,
   "id": "3454ee54-8e73-42ac-a4c7-b004aa62332c",
   "metadata": {},
   "outputs": [
    {
     "data": {
      "text/html": [
       "<div>\n",
       "<style scoped>\n",
       "    .dataframe tbody tr th:only-of-type {\n",
       "        vertical-align: middle;\n",
       "    }\n",
       "\n",
       "    .dataframe tbody tr th {\n",
       "        vertical-align: top;\n",
       "    }\n",
       "\n",
       "    .dataframe thead th {\n",
       "        text-align: right;\n",
       "    }\n",
       "</style>\n",
       "<table border=\"1\" class=\"dataframe\">\n",
       "  <thead>\n",
       "    <tr style=\"text-align: right;\">\n",
       "      <th></th>\n",
       "      <th>year</th>\n",
       "      <th>month</th>\n",
       "      <th>day</th>\n",
       "      <th>hour</th>\n",
       "      <th>origin</th>\n",
       "      <th>dest</th>\n",
       "      <th>tailnum</th>\n",
       "      <th>carrier</th>\n",
       "    </tr>\n",
       "  </thead>\n",
       "  <tbody>\n",
       "    <tr>\n",
       "      <th>0</th>\n",
       "      <td>2013</td>\n",
       "      <td>1</td>\n",
       "      <td>1</td>\n",
       "      <td>5</td>\n",
       "      <td>EWR</td>\n",
       "      <td>IAH</td>\n",
       "      <td>N14228</td>\n",
       "      <td>UA</td>\n",
       "    </tr>\n",
       "    <tr>\n",
       "      <th>1</th>\n",
       "      <td>2013</td>\n",
       "      <td>1</td>\n",
       "      <td>1</td>\n",
       "      <td>5</td>\n",
       "      <td>LGA</td>\n",
       "      <td>IAH</td>\n",
       "      <td>N24211</td>\n",
       "      <td>UA</td>\n",
       "    </tr>\n",
       "    <tr>\n",
       "      <th>...</th>\n",
       "      <td>...</td>\n",
       "      <td>...</td>\n",
       "      <td>...</td>\n",
       "      <td>...</td>\n",
       "      <td>...</td>\n",
       "      <td>...</td>\n",
       "      <td>...</td>\n",
       "      <td>...</td>\n",
       "    </tr>\n",
       "    <tr>\n",
       "      <th>336774</th>\n",
       "      <td>2013</td>\n",
       "      <td>9</td>\n",
       "      <td>30</td>\n",
       "      <td>11</td>\n",
       "      <td>LGA</td>\n",
       "      <td>CLE</td>\n",
       "      <td>N511MQ</td>\n",
       "      <td>MQ</td>\n",
       "    </tr>\n",
       "    <tr>\n",
       "      <th>336775</th>\n",
       "      <td>2013</td>\n",
       "      <td>9</td>\n",
       "      <td>30</td>\n",
       "      <td>8</td>\n",
       "      <td>LGA</td>\n",
       "      <td>RDU</td>\n",
       "      <td>N839MQ</td>\n",
       "      <td>MQ</td>\n",
       "    </tr>\n",
       "  </tbody>\n",
       "</table>\n",
       "<p>336776 rows × 8 columns</p>\n",
       "</div>"
      ],
      "text/plain": [
       "        year  month  day  hour origin dest tailnum carrier\n",
       "0       2013      1    1     5    EWR  IAH  N14228      UA\n",
       "1       2013      1    1     5    LGA  IAH  N24211      UA\n",
       "...      ...    ...  ...   ...    ...  ...     ...     ...\n",
       "336774  2013      9   30    11    LGA  CLE  N511MQ      MQ\n",
       "336775  2013      9   30     8    LGA  RDU  N839MQ      MQ\n",
       "\n",
       "[336776 rows x 8 columns]"
      ]
     },
     "execution_count": 98,
     "metadata": {},
     "output_type": "execute_result"
    }
   ],
   "source": [
    "data = flID.copy()\n",
    "flights2 = data[['year', 'month', 'day', 'hour', 'origin', 'dest', 'tailnum', 'carrier']]\n",
    "flights2"
   ]
  }
 ],
 "metadata": {
  "kernelspec": {
   "display_name": "Python 3 (ipykernel)",
   "language": "python",
   "name": "python3"
  },
  "language_info": {
   "codemirror_mode": {
    "name": "ipython",
    "version": 3
   },
   "file_extension": ".py",
   "mimetype": "text/x-python",
   "name": "python",
   "nbconvert_exporter": "python",
   "pygments_lexer": "ipython3",
   "version": "3.10.11"
  }
 },
 "nbformat": 4,
 "nbformat_minor": 5
}
