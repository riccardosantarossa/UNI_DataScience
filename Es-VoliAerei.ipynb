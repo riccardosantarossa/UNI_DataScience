{
 "cells": [
  {
   "cell_type": "code",
   "execution_count": 7,
   "id": "482a0740-ff12-46c5-a3d7-a79b1c030d12",
   "metadata": {},
   "outputs": [
    {
     "data": {
      "text/html": [
       "<div>\n",
       "<style scoped>\n",
       "    .dataframe tbody tr th:only-of-type {\n",
       "        vertical-align: middle;\n",
       "    }\n",
       "\n",
       "    .dataframe tbody tr th {\n",
       "        vertical-align: top;\n",
       "    }\n",
       "\n",
       "    .dataframe thead th {\n",
       "        text-align: right;\n",
       "    }\n",
       "</style>\n",
       "<table border=\"1\" class=\"dataframe\">\n",
       "  <thead>\n",
       "    <tr style=\"text-align: right;\">\n",
       "      <th></th>\n",
       "      <th>tailnum</th>\n",
       "      <th>year</th>\n",
       "      <th>type</th>\n",
       "      <th>manufacturer</th>\n",
       "      <th>model</th>\n",
       "      <th>engines</th>\n",
       "      <th>seats</th>\n",
       "      <th>speed</th>\n",
       "      <th>engine</th>\n",
       "    </tr>\n",
       "  </thead>\n",
       "  <tbody>\n",
       "    <tr>\n",
       "      <th>0</th>\n",
       "      <td>N10156</td>\n",
       "      <td>2004.0</td>\n",
       "      <td>Fixed wing multi engine</td>\n",
       "      <td>EMBRAER</td>\n",
       "      <td>EMB-145XR</td>\n",
       "      <td>2</td>\n",
       "      <td>55</td>\n",
       "      <td>NaN</td>\n",
       "      <td>Turbo-fan</td>\n",
       "    </tr>\n",
       "    <tr>\n",
       "      <th>1</th>\n",
       "      <td>N102UW</td>\n",
       "      <td>1998.0</td>\n",
       "      <td>Fixed wing multi engine</td>\n",
       "      <td>AIRBUS INDUSTRIE</td>\n",
       "      <td>A320-214</td>\n",
       "      <td>2</td>\n",
       "      <td>182</td>\n",
       "      <td>NaN</td>\n",
       "      <td>Turbo-fan</td>\n",
       "    </tr>\n",
       "    <tr>\n",
       "      <th>...</th>\n",
       "      <td>...</td>\n",
       "      <td>...</td>\n",
       "      <td>...</td>\n",
       "      <td>...</td>\n",
       "      <td>...</td>\n",
       "      <td>...</td>\n",
       "      <td>...</td>\n",
       "      <td>...</td>\n",
       "      <td>...</td>\n",
       "    </tr>\n",
       "    <tr>\n",
       "      <th>3320</th>\n",
       "      <td>N998DL</td>\n",
       "      <td>1992.0</td>\n",
       "      <td>Fixed wing multi engine</td>\n",
       "      <td>MCDONNELL DOUGLAS CORPORATION</td>\n",
       "      <td>MD-88</td>\n",
       "      <td>2</td>\n",
       "      <td>142</td>\n",
       "      <td>NaN</td>\n",
       "      <td>Turbo-jet</td>\n",
       "    </tr>\n",
       "    <tr>\n",
       "      <th>3321</th>\n",
       "      <td>N999DN</td>\n",
       "      <td>1992.0</td>\n",
       "      <td>Fixed wing multi engine</td>\n",
       "      <td>MCDONNELL DOUGLAS CORPORATION</td>\n",
       "      <td>MD-88</td>\n",
       "      <td>2</td>\n",
       "      <td>142</td>\n",
       "      <td>NaN</td>\n",
       "      <td>Turbo-jet</td>\n",
       "    </tr>\n",
       "  </tbody>\n",
       "</table>\n",
       "<p>3322 rows × 9 columns</p>\n",
       "</div>"
      ],
      "text/plain": [
       "     tailnum    year                     type                   manufacturer  \\\n",
       "0     N10156  2004.0  Fixed wing multi engine                        EMBRAER   \n",
       "1     N102UW  1998.0  Fixed wing multi engine               AIRBUS INDUSTRIE   \n",
       "...      ...     ...                      ...                            ...   \n",
       "3320  N998DL  1992.0  Fixed wing multi engine  MCDONNELL DOUGLAS CORPORATION   \n",
       "3321  N999DN  1992.0  Fixed wing multi engine  MCDONNELL DOUGLAS CORPORATION   \n",
       "\n",
       "          model  engines  seats  speed     engine  \n",
       "0     EMB-145XR        2     55    NaN  Turbo-fan  \n",
       "1      A320-214        2    182    NaN  Turbo-fan  \n",
       "...         ...      ...    ...    ...        ...  \n",
       "3320      MD-88        2    142    NaN  Turbo-jet  \n",
       "3321      MD-88        2    142    NaN  Turbo-jet  \n",
       "\n",
       "[3322 rows x 9 columns]"
      ]
     },
     "execution_count": 7,
     "metadata": {},
     "output_type": "execute_result"
    }
   ],
   "source": [
    "import numpy as np\n",
    "import pandas as pd\n",
    "\n",
    "pd.options.display.max_rows = 5\n",
    "pd.options.display.max_columns = 21\n",
    "\n",
    "from nycflights13 import flights, weather, planes, airports, airlines\n",
    "planes\n"
   ]
  },
  {
   "cell_type": "markdown",
   "id": "3d6682a2-db19-4fa5-8b3d-1d35b1cd8294",
   "metadata": {},
   "source": [
    "Es.1 Voli il giorno di Natale"
   ]
  },
  {
   "cell_type": "code",
   "execution_count": 2,
   "id": "e90f477d-9cf5-45a6-92a6-486db5d7a120",
   "metadata": {},
   "outputs": [],
   "source": [
    "voliNatale = flights.loc[(flights['month'] == 12) & (flights['day'] == 25)]\n",
    "#voliNatale"
   ]
  },
  {
   "cell_type": "markdown",
   "id": "3c684323-a5d0-4602-a603-b4c5ca2210d9",
   "metadata": {},
   "source": [
    "Es.2 Voli con un ritardo in partenza o in arrivo"
   ]
  },
  {
   "cell_type": "code",
   "execution_count": 4,
   "id": "66febe7a-80e8-4da3-b88d-9a270b203c2a",
   "metadata": {},
   "outputs": [],
   "source": [
    "voliRitardo = flights.loc[(flights['dep_delay'] > 0) | (flights['arr_delay'] > 0) ].dropna()\n",
    "#voliRitardo"
   ]
  },
  {
   "cell_type": "markdown",
   "id": "826858c4-b2f6-4ff1-8a5a-e68801e00f4c",
   "metadata": {},
   "source": [
    "Es.3 Voli con ritardo in partenza ma non in arrivo + PrimaryKey"
   ]
  },
  {
   "cell_type": "code",
   "execution_count": 2,
   "id": "f1ce4218-3c65-4be8-81cc-277a8093c693",
   "metadata": {},
   "outputs": [],
   "source": [
    "flID = flights.copy()\n",
    "primaryKey = np.arange(0, len(flights), 1)\n",
    "flID.insert(0, \"id\",primaryKey)\n",
    "#flID.loc[(flID['dep_delay'] > 0) & (flID['arr_delay'] < 0) ]"
   ]
  },
  {
   "cell_type": "markdown",
   "id": "2ded26fe-529d-4e18-8958-aeafc9bad3fe",
   "metadata": {},
   "source": [
    "Es.4 Voli che hanno recuperato il ritardo"
   ]
  },
  {
   "cell_type": "code",
   "execution_count": 21,
   "id": "987eea27-1948-4026-b3b0-2897647e5cef",
   "metadata": {},
   "outputs": [],
   "source": [
    "flCatch = flID.copy()\n",
    "catchup = flCatch['dep_delay'] - flCatch['arr_delay']\n",
    "flCatch.insert(10, \"catchup\", catchup)\n",
    "flCatchDisplay = flCatch[['id', 'dep_delay', 'arr_delay', 'catchup']].copy()\n",
    "#flCatchDisplay"
   ]
  },
  {
   "cell_type": "markdown",
   "id": "ed4ad7d3-d130-42c4-afb7-f93d39791280",
   "metadata": {},
   "source": [
    "Es.5 Numero di voli ogni giorno"
   ]
  },
  {
   "cell_type": "code",
   "execution_count": 37,
   "id": "f82563ea-83a1-439e-b649-4480a71ad99e",
   "metadata": {},
   "outputs": [],
   "source": [
    "flDays = flID.copy()\n",
    "flDaysShort = flDays[['id', 'month', 'day']].copy()\n",
    "flGroup = flDaysShort.groupby(['month', 'day']).size()\n",
    "flGroup = flGroup.reset_index(name = 'NumeroVoli')\n",
    "#flGroup"
   ]
  },
  {
   "cell_type": "markdown",
   "id": "2a8fdeaa-6e36-405b-a786-fc83c8f24130",
   "metadata": {},
   "source": [
    "Es. 6 Giorni con più di 1000 voli"
   ]
  },
  {
   "cell_type": "code",
   "execution_count": 38,
   "id": "6565200c-eb0f-41cb-8d54-ec6cbe8d44de",
   "metadata": {},
   "outputs": [],
   "source": [
    "flBusy = flGroup.copy()\n",
    "#flBusy[(flBusy['NumeroVoli'] > 1000) & (flBusy['month'] == 7)]"
   ]
  },
  {
   "cell_type": "markdown",
   "id": "67e73597-ab5b-4e86-9122-43cd6e6f105d",
   "metadata": {},
   "source": [
    "Es.7 Ritardo medio di partenza dei giorni di luglio con più di 1000 voli"
   ]
  },
  {
   "cell_type": "code",
   "execution_count": 95,
   "id": "454371b8-c7f6-4f63-8fc2-769d0f7bfd14",
   "metadata": {},
   "outputs": [],
   "source": [
    "flJuly = flID.copy()\n",
    "filter = flBusy.copy() \n",
    "filter = filter[(filter['month'] == 7) & (filter['NumeroVoli'] > 1000)]\n",
    "mask = flJuly['month'].isin(filter['month']) & flJulyF['day'].isin(filter['day'])\n",
    "flJulyF = flJuly[mask]\n",
    "flJulyFMean = flJulyF.groupby(['month', 'day'])\n",
    "#flJulyFMean['dep_delay'].mean().sort_values(ascending = False)"
   ]
  },
  {
   "cell_type": "markdown",
   "id": "9df33b48-c73c-4fd7-9fcc-66d6e9e5e8f1",
   "metadata": {},
   "source": [
    "Es.8 Join con tabella airlines"
   ]
  },
  {
   "cell_type": "code",
   "execution_count": 35,
   "id": "3454ee54-8e73-42ac-a4c7-b004aa62332c",
   "metadata": {},
   "outputs": [],
   "source": [
    "data = flID.copy()\n",
    "flights2 = data[['year', 'month', 'day', 'hour', 'origin', 'dest', 'tailnum', 'carrier']]\n",
    "flightsJoined = pd.merge(flights2, airlines, how = 'left')\n",
    "#flightsJoined"
   ]
  },
  {
   "cell_type": "markdown",
   "id": "3c727404-5abf-473a-b3ae-ecb585d213cd",
   "metadata": {},
   "source": [
    "Es.9 Join con planes usando solo tailnum come chiave"
   ]
  },
  {
   "cell_type": "code",
   "execution_count": 19,
   "id": "48f89715-dbf4-4c92-8da0-08f78021fa9b",
   "metadata": {},
   "outputs": [],
   "source": [
    "flToJoin = flights2.copy()\n",
    "flPlanesJoined = pd.merge(flToJoin, planes, on = 'tailnum', how = 'left')\n",
    "#flPlanesJoined.rename(columns = {\"year_x\" : \"Anno Volo\", \"year_y\" : \"Anno Aereo\"})"
   ]
  },
  {
   "cell_type": "markdown",
   "id": "30cd8a6f-c031-48aa-9152-2a01986534b7",
   "metadata": {},
   "source": [
    "Es.10 Left Join Diversi"
   ]
  },
  {
   "cell_type": "code",
   "execution_count": 34,
   "id": "573e4c1a-2311-47cf-b914-10fabbd03370",
   "metadata": {},
   "outputs": [],
   "source": [
    "flToJoin = flights2.copy()\n",
    "airports\n",
    "flAirportDep = pd.merge(flToJoin, airports, left_on = 'origin', right_on = 'faa', how = 'left')\n",
    "flAirportDest = pd.merge(flToJoin, airports, left_on = 'dest', right_on = 'faa', how = 'left')\n",
    "#flAirportDep\n",
    "#flAirportDest"
   ]
  },
  {
   "cell_type": "markdown",
   "id": "0ea9bf50-4216-4236-83eb-2c4771ec8460",
   "metadata": {},
   "source": [
    "Es.11 Destinazioni più popolari con numero di voli, ordinate decrescente"
   ]
  },
  {
   "cell_type": "code",
   "execution_count": null,
   "id": "8fb12d1d-418f-4af1-aa41-cc895b9929de",
   "metadata": {},
   "outputs": [],
   "source": []
  }
 ],
 "metadata": {
  "kernelspec": {
   "display_name": "Python 3 (ipykernel)",
   "language": "python",
   "name": "python3"
  },
  "language_info": {
   "codemirror_mode": {
    "name": "ipython",
    "version": 3
   },
   "file_extension": ".py",
   "mimetype": "text/x-python",
   "name": "python",
   "nbconvert_exporter": "python",
   "pygments_lexer": "ipython3",
   "version": "3.10.11"
  }
 },
 "nbformat": 4,
 "nbformat_minor": 5
}
