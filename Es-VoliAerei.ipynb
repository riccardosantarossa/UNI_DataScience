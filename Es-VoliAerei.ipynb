{
 "cells": [
  {
   "cell_type": "code",
   "execution_count": 2,
   "id": "482a0740-ff12-46c5-a3d7-a79b1c030d12",
   "metadata": {},
   "outputs": [],
   "source": [
    "import numpy as np\n",
    "import pandas as pd\n",
    "\n",
    "pd.options.display.max_rows = 5\n",
    "pd.options.display.max_columns = 21\n",
    "\n",
    "from nycflights13 import flights, weather, planes, airports, airlines\n"
   ]
  },
  {
   "cell_type": "markdown",
   "id": "3d6682a2-db19-4fa5-8b3d-1d35b1cd8294",
   "metadata": {},
   "source": [
    "Es.1 Voli il giorno di Natale"
   ]
  },
  {
   "cell_type": "code",
   "execution_count": 2,
   "id": "e90f477d-9cf5-45a6-92a6-486db5d7a120",
   "metadata": {},
   "outputs": [],
   "source": [
    "voliNatale = flights.loc[(flights['month'] == 12) & (flights['day'] == 25)]\n",
    "#voliNatale"
   ]
  },
  {
   "cell_type": "markdown",
   "id": "3c684323-a5d0-4602-a603-b4c5ca2210d9",
   "metadata": {},
   "source": [
    "Es.2 Voli con un ritardo in partenza o in arrivo"
   ]
  },
  {
   "cell_type": "code",
   "execution_count": 4,
   "id": "66febe7a-80e8-4da3-b88d-9a270b203c2a",
   "metadata": {},
   "outputs": [],
   "source": [
    "voliRitardo = flights.loc[(flights['dep_delay'] > 0) | (flights['arr_delay'] > 0) ].dropna()\n",
    "#voliRitardo"
   ]
  },
  {
   "cell_type": "markdown",
   "id": "826858c4-b2f6-4ff1-8a5a-e68801e00f4c",
   "metadata": {},
   "source": [
    "Es.3 Voli con ritardo in partenza ma non in arrivo + PrimaryKey"
   ]
  },
  {
   "cell_type": "code",
   "execution_count": 3,
   "id": "f1ce4218-3c65-4be8-81cc-277a8093c693",
   "metadata": {},
   "outputs": [],
   "source": [
    "flID = flights.copy()\n",
    "primaryKey = np.arange(0, len(flights), 1)\n",
    "flID.insert(0, \"id\",primaryKey)\n",
    "#flID.loc[(flID['dep_delay'] > 0) & (flID['arr_delay'] < 0) ]"
   ]
  },
  {
   "cell_type": "markdown",
   "id": "2ded26fe-529d-4e18-8958-aeafc9bad3fe",
   "metadata": {},
   "source": [
    "Es.4 Voli che hanno recuperato il ritardo"
   ]
  },
  {
   "cell_type": "code",
   "execution_count": 6,
   "id": "987eea27-1948-4026-b3b0-2897647e5cef",
   "metadata": {},
   "outputs": [],
   "source": [
    "flCatch = flID.copy()\n",
    "catchup = flCatch['dep_delay'] - flCatch['arr_delay']\n",
    "flCatch.insert(10, \"catchup\", catchup)\n",
    "flCatchDisplay = flCatch[['id', 'dep_delay', 'arr_delay', 'catchup']].copy()\n",
    "#flCatchDisplay"
   ]
  },
  {
   "cell_type": "markdown",
   "id": "ed4ad7d3-d130-42c4-afb7-f93d39791280",
   "metadata": {},
   "source": [
    "Es.5 Numero di voli ogni giorno"
   ]
  },
  {
   "cell_type": "code",
   "execution_count": 36,
   "id": "f82563ea-83a1-439e-b649-4480a71ad99e",
   "metadata": {},
   "outputs": [],
   "source": [
    "flDays = flID.copy()\n",
    "flDaysShort = flDays[['id', 'month', 'day']].copy()\n",
    "flGroup = flDaysShort.groupby(['month', 'day']).count()\n",
    "#flGroup.rename(columns={'id': 'Numero Voli'})"
   ]
  },
  {
   "cell_type": "markdown",
   "id": "2a8fdeaa-6e36-405b-a786-fc83c8f24130",
   "metadata": {},
   "source": [
    "Es. 6 Giorni con più di 1000 voli"
   ]
  },
  {
   "cell_type": "code",
   "execution_count": 37,
   "id": "6565200c-eb0f-41cb-8d54-ec6cbe8d44de",
   "metadata": {},
   "outputs": [],
   "source": [
    "flBusy = flGroup.copy()\n",
    "fl1000 = flBusy[flBusy['id'] > 1000]\n",
    "#fl1000.rename(columns={'id': 'Numero Voli'})"
   ]
  },
  {
   "cell_type": "markdown",
   "id": "67e73597-ab5b-4e86-9122-43cd6e6f105d",
   "metadata": {},
   "source": [
    "Es.7 Ritardo medio dei giorni di luglio con più di 1000 voli"
   ]
  },
  {
   "cell_type": "code",
   "execution_count": 60,
   "id": "1a981f0d-fe51-49fb-a0b7-121798960d39",
   "metadata": {},
   "outputs": [
    {
     "data": {
      "text/html": [
       "<div>\n",
       "<style scoped>\n",
       "    .dataframe tbody tr th:only-of-type {\n",
       "        vertical-align: middle;\n",
       "    }\n",
       "\n",
       "    .dataframe tbody tr th {\n",
       "        vertical-align: top;\n",
       "    }\n",
       "\n",
       "    .dataframe thead th {\n",
       "        text-align: right;\n",
       "    }\n",
       "</style>\n",
       "<table border=\"1\" class=\"dataframe\">\n",
       "  <thead>\n",
       "    <tr style=\"text-align: right;\">\n",
       "      <th></th>\n",
       "      <th></th>\n",
       "      <th>id</th>\n",
       "    </tr>\n",
       "    <tr>\n",
       "      <th>month</th>\n",
       "      <th>day</th>\n",
       "      <th></th>\n",
       "    </tr>\n",
       "  </thead>\n",
       "  <tbody>\n",
       "    <tr>\n",
       "      <th rowspan=\"2\" valign=\"top\">7</th>\n",
       "      <th>8</th>\n",
       "      <td>1004</td>\n",
       "    </tr>\n",
       "    <tr>\n",
       "      <th>9</th>\n",
       "      <td>1001</td>\n",
       "    </tr>\n",
       "    <tr>\n",
       "      <th>...</th>\n",
       "      <th>...</th>\n",
       "      <td>...</td>\n",
       "    </tr>\n",
       "    <tr>\n",
       "      <th>11</th>\n",
       "      <th>27</th>\n",
       "      <td>1014</td>\n",
       "    </tr>\n",
       "    <tr>\n",
       "      <th>12</th>\n",
       "      <th>2</th>\n",
       "      <td>1004</td>\n",
       "    </tr>\n",
       "  </tbody>\n",
       "</table>\n",
       "<p>14 rows × 1 columns</p>\n",
       "</div>"
      ],
      "text/plain": [
       "             id\n",
       "month day      \n",
       "7     8    1004\n",
       "      9    1001\n",
       "...         ...\n",
       "11    27   1014\n",
       "12    2    1004\n",
       "\n",
       "[14 rows x 1 columns]"
      ]
     },
     "execution_count": 60,
     "metadata": {},
     "output_type": "execute_result"
    }
   ],
   "source": [
    "flJuly = flID.copy()\n",
    "filtered = fl1000.copy()\n",
    "filtered"
   ]
  }
 ],
 "metadata": {
  "kernelspec": {
   "display_name": "Python 3 (ipykernel)",
   "language": "python",
   "name": "python3"
  },
  "language_info": {
   "codemirror_mode": {
    "name": "ipython",
    "version": 3
   },
   "file_extension": ".py",
   "mimetype": "text/x-python",
   "name": "python",
   "nbconvert_exporter": "python",
   "pygments_lexer": "ipython3",
   "version": "3.10.11"
  }
 },
 "nbformat": 4,
 "nbformat_minor": 5
}
