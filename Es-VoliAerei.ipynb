{
 "cells": [
  {
   "cell_type": "code",
   "execution_count": 2,
   "id": "482a0740-ff12-46c5-a3d7-a79b1c030d12",
   "metadata": {},
   "outputs": [],
   "source": [
    "import numpy as np\n",
    "import pandas as pd\n",
    "\n",
    "pd.options.display.max_rows = 11\n",
    "pd.options.display.max_columns = 21\n",
    "\n",
    "from nycflights13 import flights, weather, planes, airports, airlines\n"
   ]
  },
  {
   "cell_type": "markdown",
   "id": "3d6682a2-db19-4fa5-8b3d-1d35b1cd8294",
   "metadata": {},
   "source": [
    "Es.1 Voli il giorno di Natale"
   ]
  },
  {
   "cell_type": "code",
   "execution_count": 2,
   "id": "e90f477d-9cf5-45a6-92a6-486db5d7a120",
   "metadata": {},
   "outputs": [],
   "source": [
    "voliNatale = flights.loc[(flights['month'] == 12) & (flights['day'] == 25)]\n",
    "#voliNatale"
   ]
  },
  {
   "cell_type": "markdown",
   "id": "3c684323-a5d0-4602-a603-b4c5ca2210d9",
   "metadata": {},
   "source": [
    "Es.2 Voli con un ritardo in partenza o in arrivo"
   ]
  },
  {
   "cell_type": "code",
   "execution_count": 4,
   "id": "66febe7a-80e8-4da3-b88d-9a270b203c2a",
   "metadata": {},
   "outputs": [],
   "source": [
    "voliRitardo = flights.loc[(flights['dep_delay'] > 0) | (flights['arr_delay'] > 0) ].dropna()\n",
    "#voliRitardo"
   ]
  },
  {
   "cell_type": "markdown",
   "id": "826858c4-b2f6-4ff1-8a5a-e68801e00f4c",
   "metadata": {},
   "source": [
    "Es.3 Voli con ritardo in partenza ma non in arrivo + PrimaryKey"
   ]
  },
  {
   "cell_type": "code",
   "execution_count": 3,
   "id": "f1ce4218-3c65-4be8-81cc-277a8093c693",
   "metadata": {},
   "outputs": [],
   "source": [
    "flID = flights.copy()\n",
    "primaryKey = np.arange(0, len(flights), 1)\n",
    "flID.insert(0, \"id\",primaryKey)\n",
    "#flID.loc[(flID['dep_delay'] > 0) & (flID['arr_delay'] < 0) ]"
   ]
  },
  {
   "cell_type": "markdown",
   "id": "2ded26fe-529d-4e18-8958-aeafc9bad3fe",
   "metadata": {},
   "source": [
    "Es.4 Voli che hanno recuperato il ritardo"
   ]
  },
  {
   "cell_type": "code",
   "execution_count": 4,
   "id": "987eea27-1948-4026-b3b0-2897647e5cef",
   "metadata": {},
   "outputs": [],
   "source": [
    "flCatch = flID.copy()\n",
    "catchup = flCatch['dep_delay'] - flCatch['arr_delay']\n",
    "flCatch.insert(10, \"catchup\", catchup)\n",
    "flCatchDisplay = flCatch[['id', 'dep_delay', 'arr_delay', 'catchup']].copy()\n",
    "#flCatchDisplay"
   ]
  },
  {
   "cell_type": "markdown",
   "id": "ed4ad7d3-d130-42c4-afb7-f93d39791280",
   "metadata": {},
   "source": [
    "Es.5 Numero di voli ogni giorno"
   ]
  },
  {
   "cell_type": "code",
   "execution_count": 6,
   "id": "f82563ea-83a1-439e-b649-4480a71ad99e",
   "metadata": {},
   "outputs": [],
   "source": [
    "flDays = flID.copy()\n",
    "flDaysShort = flDays[['id', 'month', 'day']].copy()\n",
    "flGroup = flDaysShort.groupby(['month', 'day']).size()\n",
    "flGroup = flGroup.reset_index(name = 'NumeroVoli')\n",
    "#flGroup"
   ]
  },
  {
   "cell_type": "markdown",
   "id": "2a8fdeaa-6e36-405b-a786-fc83c8f24130",
   "metadata": {},
   "source": [
    "Es. 6 Giorni con più di 1000 voli"
   ]
  },
  {
   "cell_type": "code",
   "execution_count": 7,
   "id": "6565200c-eb0f-41cb-8d54-ec6cbe8d44de",
   "metadata": {},
   "outputs": [],
   "source": [
    "flBusy = flGroup.copy()\n",
    "#flBusy[(flBusy['NumeroVoli'] > 1000) & (flBusy['month'] == 7)]"
   ]
  },
  {
   "cell_type": "markdown",
   "id": "67e73597-ab5b-4e86-9122-43cd6e6f105d",
   "metadata": {},
   "source": [
    "Es.7 Ritardo medio di partenza dei giorni di luglio con più di 1000 voli"
   ]
  },
  {
   "cell_type": "code",
   "execution_count": 26,
   "id": "454371b8-c7f6-4f63-8fc2-769d0f7bfd14",
   "metadata": {},
   "outputs": [
    {
     "data": {
      "text/plain": [
       "month  day\n",
       "7      10     52.860702\n",
       "       8      37.296646\n",
       "       9      30.711499\n",
       "       12     25.096154\n",
       "       11     23.609392\n",
       "       18     20.626789\n",
       "       25     19.674134\n",
       "       17     13.670707\n",
       "       31      6.280843\n",
       "Name: dep_delay, dtype: float64"
      ]
     },
     "execution_count": 26,
     "metadata": {},
     "output_type": "execute_result"
    }
   ],
   "source": [
    "flJuly = flID.copy()\n",
    "filter = flBusy.copy() \n",
    "filter = filter[(filter['month'] == 7) & (filter['NumeroVoli'] > 1000)]\n",
    "mask = flJuly['day'].isin(filter['day'])\n",
    "flJulyF = flJuly[mask]\n",
    "flJulyFMean['dep_delay'].mean().sort_values(ascending = False)"
   ]
  },
  {
   "cell_type": "markdown",
   "id": "9df33b48-c73c-4fd7-9fcc-66d6e9e5e8f1",
   "metadata": {},
   "source": [
    "Es.8 Join con tabella airlines"
   ]
  },
  {
   "cell_type": "code",
   "execution_count": 10,
   "id": "3454ee54-8e73-42ac-a4c7-b004aa62332c",
   "metadata": {},
   "outputs": [],
   "source": [
    "data = flID.copy()\n",
    "flights2 = data[['year', 'month', 'day', 'hour', 'origin', 'dest', 'tailnum', 'carrier']]\n",
    "flightsJoined = pd.merge(flights2, airlines, how = 'left')\n",
    "#flightsJoined"
   ]
  },
  {
   "cell_type": "markdown",
   "id": "3c727404-5abf-473a-b3ae-ecb585d213cd",
   "metadata": {},
   "source": [
    "Es.9 Join con planes usando solo tailnum come chiave"
   ]
  },
  {
   "cell_type": "code",
   "execution_count": 10,
   "id": "48f89715-dbf4-4c92-8da0-08f78021fa9b",
   "metadata": {},
   "outputs": [],
   "source": [
    "flToJoin = flights2.copy()\n",
    "flPlanesJoined = pd.merge(flToJoin, planes, on = 'tailnum', how = 'left')\n",
    "#flPlanesJoined.rename(columns = {\"year_x\" : \"Anno Volo\", \"year_y\" : \"Anno Aereo\"})"
   ]
  },
  {
   "cell_type": "markdown",
   "id": "30cd8a6f-c031-48aa-9152-2a01986534b7",
   "metadata": {},
   "source": [
    "Es.10 Left Join Diversi"
   ]
  },
  {
   "cell_type": "code",
   "execution_count": 11,
   "id": "573e4c1a-2311-47cf-b914-10fabbd03370",
   "metadata": {},
   "outputs": [],
   "source": [
    "flToJoin = flights2.copy()\n",
    "airports\n",
    "flAirportDep = pd.merge(flToJoin, airports, left_on = 'origin', right_on = 'faa', how = 'left')\n",
    "flAirportDest = pd.merge(flToJoin, airports, left_on = 'dest', right_on = 'faa', how = 'left')\n",
    "#flAirportDep\n",
    "#flAirportDest"
   ]
  },
  {
   "cell_type": "markdown",
   "id": "0ea9bf50-4216-4236-83eb-2c4771ec8460",
   "metadata": {},
   "source": [
    "Es.11 Destinazioni più popolari con numero di voli, ordinate decrescente"
   ]
  },
  {
   "cell_type": "code",
   "execution_count": 47,
   "id": "8fb12d1d-418f-4af1-aa41-cc895b9929de",
   "metadata": {},
   "outputs": [],
   "source": [
    "data = flAirportDest.copy()\n",
    "dataGroup = data.groupby('name').size()\n",
    "#dataGroup.sort_values(ascending = False).head(10)"
   ]
  },
  {
   "cell_type": "markdown",
   "id": "b52f64ce-38ba-4568-b8bf-e577e8e2be53",
   "metadata": {},
   "source": [
    "Es.12 Voli effettuati da aerei Boeing"
   ]
  },
  {
   "cell_type": "code",
   "execution_count": 53,
   "id": "243f119a-74a0-42d6-b3eb-0aa7338b73de",
   "metadata": {},
   "outputs": [],
   "source": [
    "data = flPlanesJoined.copy()\n",
    "flightsByBoeing = data.loc[data['manufacturer'] == 'BOEING']\n",
    "#flightsByBoeing.rename(columns = {\"year_x\" : \"Anno Volo\", \"year_y\" : \"Anno Aereo\"})"
   ]
  },
  {
   "cell_type": "markdown",
   "id": "245ac421-b67a-4254-83ea-d5ccfa0e8ea8",
   "metadata": {},
   "source": [
    "Es.13 Voli con destinazione ad altitudine superiore a 6000 piedi"
   ]
  },
  {
   "cell_type": "code",
   "execution_count": 85,
   "id": "f47f1069-265b-4594-834c-400163fc7e8f",
   "metadata": {},
   "outputs": [],
   "source": [
    "data = flAirportDest.copy()\n",
    "flightsHigh = data.loc[data['alt'] > 6000]\n",
    "#flightsHigh.sort_values(by = ['alt'], ascending = False)"
   ]
  },
  {
   "cell_type": "markdown",
   "id": "c42fc20e-d256-4348-9765-8fbd5af2dfd8",
   "metadata": {},
   "source": [
    "Es.14 Voli con 4 motori e visibilità minore di 3 miglia"
   ]
  },
  {
   "cell_type": "code",
   "execution_count": 91,
   "id": "22a51e94-841f-464e-b8ed-928ed291a784",
   "metadata": {},
   "outputs": [],
   "source": [
    "data = flPlanesJoined.copy()\n",
    "flights4Engines = data.loc[data['engines'] == 4.0]\n",
    "flights4EnginesWeather = pd.merge(flights4Engines, weather, how = 'left')\n",
    "finalData = flights4EnginesWeather.loc[flights4EnginesWeather['visib'] < 3.0]\n",
    "#finalData.rename(columns = {\"year_x\" : \"Anno Volo\", \"year_y\" : \"Anno Aereo\"})"
   ]
  },
  {
   "cell_type": "markdown",
   "id": "85997105-5001-4c5d-93e5-0693edfd21ae",
   "metadata": {},
   "source": [
    "Es.15 Voli con aeroporti a differenza di altitudine\n"
   ]
  },
  {
   "cell_type": "code",
   "execution_count": 11,
   "id": "f8ca9ffc-59db-426e-94af-91876e13dc51",
   "metadata": {},
   "outputs": [],
   "source": [
    "data = flights2.copy()\n",
    "altitudes = airports[['faa','alt']]\n",
    "depAlt = pd.merge(data, altitudes, left_on = 'origin', right_on = 'faa', how = 'left')\n",
    "finalAlt = pd.merge(depAlt, altitudes, left_on = 'dest', right_on = 'faa', how = 'left')\n",
    "finalAlt = finalAlt.drop(columns = ['faa_x', 'faa_y'])\n",
    "finalAlt = finalAlt.rename(columns = {'alt_x' : 'Altitudine Partenza', 'alt_y' : 'Altitudine Arrivo'})\n",
    "delta = np.absolute(finalAlt['Altitudine Partenza'] - finalAlt['Altitudine Arrivo'])\n",
    "finalAlt = finalAlt.assign(deltaAlt=delta)\n",
    "#finalAlt.loc[finalAlt['deltaAlt'] > 6000]"
   ]
  },
  {
   "cell_type": "markdown",
   "id": "a3b8572e-cf84-4141-93ab-850799071646",
   "metadata": {},
   "source": [
    "Es.16 Verifica che tailnum sia davvero una chiave"
   ]
  },
  {
   "cell_type": "code",
   "execution_count": null,
   "id": "2902a723-20ce-49ea-9d77-574866fdf228",
   "metadata": {},
   "outputs": [],
   "source": []
  },
  {
   "cell_type": "markdown",
   "id": "de0762d7-9de7-4f74-990c-862cb773c4ee",
   "metadata": {},
   "source": [
    "Es.17 Anti Join"
   ]
  },
  {
   "cell_type": "code",
   "execution_count": 4,
   "id": "84f768d2-065a-4ee4-83aa-a2b4d09f2069",
   "metadata": {},
   "outputs": [],
   "source": [
    "data1 = flights.copy()\n",
    "data2 = airports.copy()\n",
    "\n",
    "#anti join in due passaggi\n",
    "outer = pd.merge(data1, data2, how = 'outer', left_on = 'dest', right_on = 'faa', indicator = True)\n",
    "antiJoin = outer[(outer._merge=='left_only')].drop('_merge', axis = 1)\n",
    "#antiJoin"
   ]
  },
  {
   "cell_type": "markdown",
   "id": "948fdf76-8223-436b-b358-75e05b86eeb8",
   "metadata": {},
   "source": [
    "Ho ottenuto tutti i voli che in dest hanno un riferimento ad un faa non presente in Airports facendo quindi un Anti-Join"
   ]
  },
  {
   "cell_type": "code",
   "execution_count": 120,
   "id": "069da7fe-4961-49a1-adba-e8d94945b63f",
   "metadata": {},
   "outputs": [
    {
     "data": {
      "text/plain": [
       "18926     <NA>\n",
       "18927     <NA>\n",
       "18928     <NA>\n",
       "18929     <NA>\n",
       "18930     <NA>\n",
       "          ... \n",
       "334858    <NA>\n",
       "334859    <NA>\n",
       "334860    <NA>\n",
       "334861    <NA>\n",
       "334862    <NA>\n",
       "Name: dest, Length: 7602, dtype: object"
      ]
     },
     "execution_count": 120,
     "metadata": {},
     "output_type": "execute_result"
    }
   ],
   "source": [
    "data = antiJoin.copy()\n",
    "data = data.assign(dest = pd.NA)\n"
   ]
  }
 ],
 "metadata": {
  "kernelspec": {
   "display_name": "Python 3 (ipykernel)",
   "language": "python",
   "name": "python3"
  },
  "language_info": {
   "codemirror_mode": {
    "name": "ipython",
    "version": 3
   },
   "file_extension": ".py",
   "mimetype": "text/x-python",
   "name": "python",
   "nbconvert_exporter": "python",
   "pygments_lexer": "ipython3",
   "version": "3.10.11"
  }
 },
 "nbformat": 4,
 "nbformat_minor": 5
}
