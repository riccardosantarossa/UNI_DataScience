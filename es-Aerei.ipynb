{
 "cells": [
  {
   "cell_type": "code",
   "execution_count": 29,
   "metadata": {
    "vscode": {
     "languageId": "raw"
    }
   },
   "outputs": [],
   "source": [
    "import numpy as np\n",
    "import pandas as pd\n",
    "\n",
    "pd.options.display.max_rows = 5\n",
    "from nycflights13 import flights, weather, planes, airports, airlines\n",
    "\n"
   ]
  },
  {
   "cell_type": "markdown",
   "metadata": {},
   "source": [
    "Es.1 Voli il giorno di Natale"
   ]
  },
  {
   "cell_type": "code",
   "execution_count": 25,
   "metadata": {},
   "outputs": [],
   "source": [
    "voliNatale = flights.loc[(flights['month'] == 12) & (flights['day'] == 25)]\n",
    "#voliNatale"
   ]
  },
  {
   "cell_type": "markdown",
   "metadata": {},
   "source": [
    "Es.2 Voli con un ritardo al decollo o all'atterraggio"
   ]
  },
  {
   "cell_type": "code",
   "execution_count": 4,
   "metadata": {},
   "outputs": [],
   "source": [
    "fp = flights.copy().dropna()\n",
    "voliRitardo = fp.loc[(fp['dep_delay'] > 0) | (fp['arr_delay'] > 0) ]\n",
    "#voliRitardo"
   ]
  },
  {
   "cell_type": "markdown",
   "metadata": {},
   "source": [
    "Es.3 Voli con ritardo di partenza  valido, arrivo non valido + PrimaryKey"
   ]
  },
  {
   "cell_type": "code",
   "execution_count": 6,
   "metadata": {},
   "outputs": [],
   "source": [
    "fl = flights.copy().dropna()\n",
    "primaryKey = np.arange(0, len(fl), 1)\n",
    "fl.insert(0, \"id\",primaryKey)\n",
    "voliStrano = fl.loc[(fl['dep_delay'] > 0) & (fl['arr_delay'] < 0) ]\n",
    "#voliStrano"
   ]
  },
  {
   "cell_type": "markdown",
   "metadata": {},
   "source": [
    "Es.4 Recupero del tempo perso"
   ]
  },
  {
   "cell_type": "code",
   "execution_count": 28,
   "metadata": {},
   "outputs": [
    {
     "data": {
      "text/plain": [
       "0          2.0\n",
       "1          4.0\n",
       "          ... \n",
       "336768    12.0\n",
       "336769   -10.0\n",
       "Name: dep_delay, Length: 327346, dtype: float64"
      ]
     },
     "execution_count": 28,
     "metadata": {},
     "output_type": "execute_result"
    }
   ],
   "source": [
    "fl = flights.copy().dropna()\n",
    "depDelay = fl['dep_delay']\n",
    "#arrDelay = fl['arr_delay'] \n",
    "depDelay\n",
    "#catchup = depDelay - arrDelay\n",
    "#fl.insert(10, \"catchup\", catchup)"
   ]
  }
 ],
 "metadata": {
  "kernelspec": {
   "display_name": "Python 3 (ipykernel)",
   "language": "python",
   "name": "python3"
  },
  "language_info": {
   "codemirror_mode": {
    "name": "ipython",
    "version": 3
   },
   "file_extension": ".py",
   "mimetype": "text/x-python",
   "name": "python",
   "nbconvert_exporter": "python",
   "pygments_lexer": "ipython3",
   "version": "3.10.11"
  }
 },
 "nbformat": 4,
 "nbformat_minor": 4
}
